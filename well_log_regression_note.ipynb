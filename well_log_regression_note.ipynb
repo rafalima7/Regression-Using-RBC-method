{
 "cells": [
  {
   "cell_type": "code",
   "execution_count": 1,
   "id": "cba28907",
   "metadata": {},
   "outputs": [],
   "source": [
    "import lasio\n",
    "import seaborn\n",
    "import matplotlib.pyplot as plt\n",
    "from sklearn.neighbors import LocalOutlierFactor\n",
    "import pandas as pd\n",
    "import numpy as np"
   ]
  },
  {
   "cell_type": "code",
   "execution_count": 2,
   "id": "34fd0a06",
   "metadata": {},
   "outputs": [
    {
     "name": "stdout",
     "output_type": "stream",
     "text": [
      "Alaska 2 - Correlações\n",
      "           RHOB      NPHI        DT        GR       ILD     DEPTH\n",
      "RHOB   1.000000 -0.322254 -0.250311  0.291251 -0.145727  0.278628\n",
      "NPHI  -0.322254  1.000000  0.522223  0.503283 -0.164131 -0.428740\n",
      "DT    -0.250311  0.522223  1.000000  0.325420 -0.141120 -0.444379\n",
      "GR     0.291251  0.503283  0.325420  1.000000 -0.283312 -0.023131\n",
      "ILD   -0.145727 -0.164131 -0.141120 -0.283312  1.000000  0.023544\n",
      "DEPTH  0.278628 -0.428740 -0.444379 -0.023131  0.023544  1.000000\n",
      "Alaska 3 - Correlações\n",
      "           RHOB      NPHI        DT        GR       ILD     DEPTH\n",
      "RHOB   1.000000 -0.428836 -0.377076 -0.012439  0.294842  0.621318\n",
      "NPHI  -0.428836  1.000000  0.520852  0.671720 -0.693584 -0.502024\n",
      "DT    -0.377076  0.520852  1.000000  0.377237 -0.403318 -0.709686\n",
      "GR    -0.012439  0.671720  0.377237  1.000000 -0.583643 -0.326429\n",
      "ILD    0.294842 -0.693584 -0.403318 -0.583643  1.000000  0.304397\n",
      "DEPTH  0.621318 -0.502024 -0.709686 -0.326429  0.304397  1.000000\n",
      "Alaska 4 - Correlações\n",
      "          RHOB      NPHI        DT        GR       ILD\n",
      "RHOB  1.000000 -0.212811 -0.415601 -0.090507  0.267812\n",
      "NPHI -0.212811  1.000000  0.660401  0.535052 -0.355830\n",
      "DT   -0.415601  0.660401  1.000000  0.300163 -0.238077\n",
      "GR   -0.090507  0.535052  0.300163  1.000000 -0.449803\n",
      "ILD   0.267812 -0.355830 -0.238077 -0.449803  1.000000\n",
      "Alaska 5 - Correlações\n",
      "           RHOB      NPHI        DT        GR       ILD     DEPTH\n",
      "RHOB   1.000000 -0.222194 -0.196026  0.167802 -0.325947  0.315561\n",
      "NPHI  -0.222194  1.000000  0.649019  0.670094 -0.378517 -0.724047\n",
      "DT    -0.196026  0.649019  1.000000  0.460357 -0.230664 -0.503433\n",
      "GR     0.167802  0.670094  0.460357  1.000000 -0.504799 -0.344388\n",
      "ILD   -0.325947 -0.378517 -0.230664 -0.504799  1.000000  0.110862\n",
      "DEPTH  0.315561 -0.724047 -0.503433 -0.344388  0.110862  1.000000\n"
     ]
    }
   ],
   "source": [
    "#%% Loading DataSet\n",
    "\n",
    "#Alaska dataSet\n",
    "alaska2 = lasio.read('well_logs/dados_alaska/dado2.las').df().loc[:,['RHOB','NPHI', 'DT', 'GR', 'ILD']].dropna(subset=['RHOB','NPHI', 'DT', 'GR', 'ILD'])\n",
    "alaska2['DEPTH'] = alaska2.index\n",
    "print('Alaska 2 - Correlações')\n",
    "print(alaska2.corr())\n",
    "alaska3 = lasio.read('well_logs/dados_alaska/dado3.las').df().loc[:,['RHOB','NPHI', 'DT', 'GR', 'ILD']].dropna(subset=['RHOB','NPHI', 'DT', 'GR', 'ILD'])\n",
    "alaska3['DEPTH'] = alaska3.index\n",
    "print('Alaska 3 - Correlações')\n",
    "print(alaska3.corr())\n",
    "alaska4 = lasio.read('well_logs/dados_alaska/dado4.las').df().loc[:,['RHOB','NPHI', 'DT', 'GR', 'ILD']].dropna(subset=['RHOB','NPHI', 'DT', 'GR', 'ILD'])\n",
    "print('Alaska 4 - Correlações')\n",
    "print(alaska4.corr())\n",
    "alaska5 = lasio.read('well_logs/dados_alaska/dado5.las').df().loc[:,['RHOB','NPHI', 'DT', 'GR', 'ILD']].dropna(subset=['RHOB','NPHI', 'DT', 'GR', 'ILD'])\n",
    "print('Alaska 5 - Correlações')\n",
    "alaska5['DEPTH'] = alaska5.index\n",
    "print(alaska5.corr())\n",
    "\n"
   ]
  },
  {
   "cell_type": "code",
   "execution_count": null,
   "id": "ada10d17",
   "metadata": {},
   "outputs": [
    {
     "data": {
      "text/plain": [
       "(0.0, 40.0)"
      ]
     },
     "execution_count": 3,
     "metadata": {},
     "output_type": "execute_result"
    }
   ],
   "source": [
    "from sklearn.neighbors import LocalOutlierFactor\n",
    "\n",
    "lof = LocalOutlierFactor(n_neighbors=20)\n",
    "\n",
    "#### Alaska2\n",
    "alaska2_lof = lof.fit_predict(alaska2)\n",
    "alaska2['LOF'] = alaska2_lof\n",
    "seaborn.pairplot(alaska2, hue='LOF', palette='Dark2').fig.suptitle(\"Alaska 2 - LOF\", y=1.05, fontsize=20)\n",
    "\n",
    "plt.figure(dpi=300, figsize=[20,20])\n",
    "plt.subplot(151)\n",
    "plt.scatter(alaska2['RHOB'], alaska2.index, c=alaska2_lof)\n",
    "plt.subplot(152)\n",
    "plt.scatter(alaska2['NPHI'], alaska2.index, c=alaska2_lof)\n",
    "plt.subplot(153)\n",
    "plt.scatter(alaska2['DT'], alaska2.index, c=alaska2_lof)\n",
    "plt.subplot(154)\n",
    "plt.scatter(alaska2['GR'], alaska2.index, c=alaska2_lof)\n",
    "plt.subplot(155)\n",
    "plt.scatter(alaska2['ILD'], alaska2.index, c=alaska2_lof)\n",
    "plt.xlim(0,40)\n"
   ]
  },
  {
   "cell_type": "code",
   "execution_count": null,
   "id": "584321a4",
   "metadata": {},
   "outputs": [],
   "source": [
    "# Dropar outliers Alaska2\n",
    "alaska2 = alaska2.drop(alaska2[alaska2['LOF']==-1].index)\n",
    "alaska2 = alaska2.drop(['LOF'], axis = 1)\n",
    "print('Correlações após o LOF aplicado')\n",
    "print(alaska2.corr())\n",
    "seaborn.pairplot(alaska2, palette='Dark2')"
   ]
  },
  {
   "cell_type": "code",
   "execution_count": null,
   "id": "0ea9e35f",
   "metadata": {},
   "outputs": [],
   "source": [
    "#### Alaska3\n",
    "lof = LocalOutlierFactor(n_neighbors=20)\n",
    "\n",
    "alaska3_lof = lof.fit_predict(alaska3)\n",
    "alaska3['LOF'] = alaska3_lof\n",
    "seaborn.pairplot(alaska3, hue='LOF', palette='Dark2').fig.suptitle(\"Alaska 3 - LOF\", y=1.05, fontsize=20)\n",
    "\n",
    "plt.figure(dpi=300, figsize=[20,20])\n",
    "plt.subplot(151)\n",
    "plt.scatter(alaska3['RHOB'], alaska3.index, c=alaska3_lof)\n",
    "plt.subplot(152)\n",
    "plt.scatter(alaska3['NPHI'], alaska3.index, c=alaska3_lof)\n",
    "plt.subplot(153)\n",
    "plt.scatter(alaska3['DT'], alaska3.index, c=alaska3_lof)\n",
    "plt.subplot(154)\n",
    "plt.scatter(alaska3['GR'], alaska3.index, c=alaska3_lof)\n",
    "plt.subplot(155)\n",
    "plt.scatter(alaska3['ILD'], alaska3.index, c=alaska3_lof)\n",
    "plt.xlim(0,40)\n",
    "\n"
   ]
  },
  {
   "cell_type": "code",
   "execution_count": null,
   "id": "b0716b00",
   "metadata": {},
   "outputs": [],
   "source": [
    "# Dropa alaska 3 com lof\n",
    "alaska3 = alaska3.drop(alaska3[alaska3['LOF']==-1].index)\n",
    "alaska3 = alaska3.drop(['LOF'], axis = 1)\n",
    "alaska3.corr()\n",
    "seaborn.pairplot(alaska3, palette='Dark2')"
   ]
  },
  {
   "cell_type": "code",
   "execution_count": null,
   "id": "9cc8a5f5",
   "metadata": {},
   "outputs": [],
   "source": [
    "alaska3.corr()"
   ]
  },
  {
   "cell_type": "code",
   "execution_count": null,
   "id": "fe670294",
   "metadata": {},
   "outputs": [],
   "source": [
    "#### Alaska5\n",
    "alaska5_lof = lof.fit_predict(alaska5.iloc[:,1:])\n",
    "alaska5['LOF'] = alaska5_lof\n",
    "seaborn.pairplot(alaska5, hue='LOF', palette='Dark2').fig.suptitle(\"Alaska 2 - Covariance\", y=1.05, fontsize=20)\n",
    "\n",
    "plt.figure(dpi=300, figsize=[20,20])\n",
    "plt.subplot(151)\n",
    "plt.scatter(alaska5['RHOB'], alaska5.index, c=alaska5_lof)\n",
    "plt.subplot(152)\n",
    "plt.scatter(alaska5['NPHI'], alaska5.index, c=alaska5_lof)\n",
    "plt.subplot(153)\n",
    "plt.scatter(alaska5['DT'], alaska5.index, c=alaska5_lof)\n",
    "plt.subplot(154)\n",
    "plt.scatter(alaska5['GR'], alaska5.index, c=alaska5_lof)\n",
    "plt.subplot(155)\n",
    "plt.scatter(alaska5['ILD'], alaska5.index, c=alaska5_lof)\n",
    "plt.xlim(0,40)"
   ]
  },
  {
   "cell_type": "code",
   "execution_count": null,
   "id": "cc0eab78",
   "metadata": {},
   "outputs": [],
   "source": [
    "#drop alaska 5 com lof\n",
    "alaska5 = alaska5.drop(alaska5[alaska5['LOF']==-1].index)\n",
    "alaska5 = alaska5.drop(['LOF'], axis = 1)\n",
    "print(alaska5.corr())\n",
    "seaborn.pairplot(alaska5, palette='Dark2') "
   ]
  }
 ],
 "metadata": {
  "kernelspec": {
   "display_name": "Python 3 (ipykernel)",
   "language": "python",
   "name": "python3"
  },
  "language_info": {
   "codemirror_mode": {
    "name": "ipython",
    "version": 3
   },
   "file_extension": ".py",
   "mimetype": "text/x-python",
   "name": "python",
   "nbconvert_exporter": "python",
   "pygments_lexer": "ipython3",
   "version": "3.10.9"
  }
 },
 "nbformat": 4,
 "nbformat_minor": 5
}
